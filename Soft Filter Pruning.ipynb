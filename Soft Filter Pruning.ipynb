{
 "cells": [
  {
   "cell_type": "code",
   "execution_count": 24,
   "id": "hydraulic-conditioning",
   "metadata": {},
   "outputs": [],
   "source": [
    "import torch\n",
    "import torch.optim\n",
    "import torch.utils.data\n",
    "import torchvision\n",
    "import torch.optim as optim\n",
    "import torchvision.transforms as transforms\n",
    "import torchvision.datasets as datasets\n",
    "import torchvision.models as models\n",
    "import random\n",
    "import numpy as np\n",
    "import time\n",
    "import matplotlib.pyplot as plt\n",
    "import csv\n",
    "import copy\n"
   ]
  },
  {
   "cell_type": "markdown",
   "id": "level-producer",
   "metadata": {},
   "source": [
    "# Import CIFAR-10 dataset"
   ]
  },
  {
   "cell_type": "code",
   "execution_count": 4,
   "id": "therapeutic-dallas",
   "metadata": {},
   "outputs": [],
   "source": [
    "def load_dataset(batch_size):\n",
    "    mean = [x/255 for x in [125.30691805, 122.95039414, 113.86538318]]\n",
    "    std = [x/255 for x in [62.99321928, 62.08870764, 66.70489964]]\n",
    "    \n",
    "    train_transform = transforms.Compose(\n",
    "        [transforms.RandomHorizontalFlip(), transforms.RandomCrop(32, padding=4), transforms.ToTensor(),\n",
    "         transforms.Normalize(mean, std)])\n",
    "    test_transform = transforms.Compose(\n",
    "        [transforms.ToTensor(),\n",
    "         transforms.Normalize(mean, std)])\n",
    "    \n",
    "    trainset = torchvision.datasets.CIFAR10(root='./data', train=True, download=True, transform=train_transform)\n",
    "    testset = torchvision.datasets.CIFAR10(root='./data', train=False, download=True, transform=test_transform)\n",
    "    \n",
    "    train_loader = torch.utils.data.DataLoader(trainset, batch_size=batch_size, shuffle=True)\n",
    "    test_loader = torch.utils.data.DataLoader(testset, batch_size=batch_size, shuffle=False)\n",
    "    \n",
    "    return train_loader, test_loader"
   ]
  },
  {
   "cell_type": "markdown",
   "id": "automotive-leader",
   "metadata": {},
   "source": [
    "# Mask class for pruning"
   ]
  },
  {
   "cell_type": "code",
   "execution_count": 5,
   "id": "square-basis",
   "metadata": {},
   "outputs": [],
   "source": [
    "class Mask:\n",
    "    \"\"\"\n",
    "    Used to determine the least imporant filters and to prune them\n",
    "    \"\"\"\n",
    "    \n",
    "    def __init__(self, model, rate):\n",
    "        self.model = model\n",
    "        self.rate = rate\n",
    "        self.model_size = {}\n",
    "        self.model_length = {}\n",
    "        self.masks = {}\n",
    "        \n",
    "    \n",
    "    def init_length(self):\n",
    "        \"\"\"\n",
    "        Initialize size of parameters for each layer\n",
    "        model_size: shape of weights\n",
    "        model_length: number of parameters\n",
    "        \"\"\"\n",
    "        for index, item in enumerate(self.model.parameters()):\n",
    "            self.model_size[index] = item.size()\n",
    "            self.model_length[index] = np.prod(list(item.size()))\n",
    "\n",
    "    \n",
    "    def get_mask(self, weights, length):\n",
    "        \"\"\"\n",
    "        Get mask for one conv layer\n",
    "        \"\"\"\n",
    "        mask = np.ones(length)\n",
    "        if len(weights.size())==4: # check if it is conv layer\n",
    "            num_prune = int(weights.size()[0]*self.rate)\n",
    "            kernel_params = weights.view(weights.size()[0],-1)\n",
    "            kernel_length = kernel_params.size()[1]\n",
    "            \n",
    "            norm = torch.norm(kernel_params, 2, 1).cpu().numpy()\n",
    "            sorted_index = norm.argsort()[:num_prune]\n",
    "                       \n",
    "            for i in range(len(sorted_index)):\n",
    "                index = sorted_index[i]\n",
    "                # set elements corresponding to all weights in that kernel to zero\n",
    "                mask[index*kernel_length:(index+1)*kernel_length] = 0    \n",
    "        \n",
    "        return mask\n",
    "            \n",
    "\n",
    "    def init_mask(self):\n",
    "        \"\"\"\n",
    "        Get masks for each conv layer\n",
    "        \"\"\"\n",
    "        for index, item in enumerate(self.model.parameters()):\n",
    "            self.masks[index] = self.get_mask(item.data, self.model_length[index])\n",
    "            self.masks[index] = torch.FloatTensor(self.masks[index])\n",
    "            \n",
    "    def do_mask(self):\n",
    "        \"\"\"\n",
    "        Set weights of pruned kernels to zero by multiplying weights with the mask\n",
    "        \"\"\"\n",
    "        for index, item in enumerate(self.model.parameters()):\n",
    "            weights = item.data.view(self.model_length[index])\n",
    "            masked_weights = self.masks[index] * weights\n",
    "            item.data = masked_weights.view(self.model_size[index])\n",
    "            \n",
    "\n",
    "    def count_zero(self): # should we change this to sum across all layers?\n",
    "        \"\"\"\n",
    "        Prints number of zero and non-zero weights in each layer\n",
    "        \"\"\"\n",
    "        for index, item in enumerate(self.model.parameters()):\n",
    "            if len(item.data.size())==4: # check if is conv layer\n",
    "                weights = item.data.view(self.model_length[index])\n",
    "                weights = weights.cpu().numpy()\n",
    "                non_zero = np.count_nonzero(weights)\n",
    "                zero = len(weights) - non_zero\n",
    "\n",
    "                print(\"Layer: {} - No. of zero weights = {} - No. of non-zero weights = {}\".format(\n",
    "                    index, zero, non_zero))\n",
    "\n",
    "            "
   ]
  },
  {
   "cell_type": "markdown",
   "id": "indirect-hampton",
   "metadata": {},
   "source": [
    "# Model"
   ]
  },
  {
   "cell_type": "code",
   "execution_count": 6,
   "id": "outside-mineral",
   "metadata": {},
   "outputs": [],
   "source": [
    "def metrics(model, device, criterion, data_loader):\n",
    "    \"\"\"\n",
    "    Returns loss and accuracy\n",
    "    \"\"\"\n",
    "    model.eval()\n",
    "    loss = 0\n",
    "    correct = 0\n",
    "    \n",
    "    start_time = time.time()\n",
    "    \n",
    "    with torch.no_grad():\n",
    "        for data, target in data_loader:\n",
    "            data, target = data.to(device), target.to(device)\n",
    "            data = torch.autograd.Variable(data)\n",
    "            target = torch.autograd.Variable(target)\n",
    "            \n",
    "            output = model(data)\n",
    "            loss += criterion(output, target)\n",
    "            pred = output.argmax(dim=1, keepdim=True)\n",
    "            correct += pred.eq(target.view_as(pred)).sum().item()\n",
    "    \n",
    "    loss /= len(data_loader)\n",
    "    acc = 100. * correct / len(data_loader.dataset)\n",
    "    \n",
    "    end_time = time.time()\n",
    "    time_taken = end_time - start_time\n",
    "    \n",
    "    return loss, acc, time_taken\n",
    "\n",
    "def plot_curves(curves, title, parameter, labels):\n",
    "    for i in range(len(curves)):\n",
    "        curve = curves[i]\n",
    "        label = parameter + ': ' + str(labels[i])\n",
    "        plt.plot(curve,label=label)\n",
    "    plt.title(title)\n",
    "    plt.legend()\n",
    "    plt.show()"
   ]
  },
  {
   "cell_type": "code",
   "execution_count": 7,
   "id": "norwegian-spider",
   "metadata": {},
   "outputs": [],
   "source": [
    "def train(model, device, criterion, train_loader, test_loader, optimizer, epoch):\n",
    "    \"\"\"\n",
    "    Forward and backward pass\n",
    "    \"\"\"\n",
    "    model.train()\n",
    "    start_time = time.time()\n",
    "    for batch_idx, (data, target) in enumerate(train_loader):\n",
    "        data, target = data.to(device), target.to(device)\n",
    "        data = torch.autograd.Variable(data)\n",
    "        target = torch.autograd.Variable(target)\n",
    "        \n",
    "        output = model(data)\n",
    "        loss = criterion(output, target)\n",
    "        \n",
    "        optimizer.zero_grad()\n",
    "        loss.backward()\n",
    "        optimizer.step()\n",
    "    \n",
    "    end_time = time.time()\n",
    "    time_taken = end_time - start_time\n",
    "    train_loss, train_acc, _ = metrics(model, device, criterion, train_loader)\n",
    "    print(\"Train Epoch: {} - Time taken: {:.1f}s\\nTrain Loss: {:.4f} - Train Accuracy: {:.1f}%\".format(epoch, time_taken, train_loss, train_acc))\n",
    "    \n",
    "    return train_loss, train_acc"
   ]
  },
  {
   "cell_type": "code",
   "execution_count": 28,
   "id": "latin-tournament",
   "metadata": {},
   "outputs": [],
   "source": [
    "def run(arch='resnet18', pruning_rate=0.1, epochs=10, pruning_epoch=1, batch_size=128, learning_rate=0.1, momentum=0.9, decay=0.0005, pruning_scale=1.0, pr_threshold=1.0):\n",
    "    \"\"\"\n",
    "    Do training and pruning\n",
    "    \"\"\"\n",
    "    start_pr = pruning_rate\n",
    "    device = torch.device(\"cuda\" if torch.cuda.is_available() else \"cpu\")\n",
    "    random.seed(42)\n",
    "    np.random.seed(42)\n",
    "    torch.manual_seed(42)\n",
    "    torch.cuda.manual_seed_all(42)\n",
    "    torch.backends.cudnn.deterministic = True \n",
    "\n",
    "    train_loader, test_loader = load_dataset(batch_size)\n",
    "    num_classes = 10 # cifar-10\n",
    "    model = models.__dict__[arch](num_classes)\n",
    "    \n",
    "    model = model.to(device)\n",
    "    \n",
    "    optimizer = optim.SGD(model.parameters(), lr=learning_rate, momentum=momentum, weight_decay=decay, nesterov=True)\n",
    "    criterion = torch.nn.CrossEntropyLoss()\n",
    "    \n",
    "    _, test_acc, _ = metrics(model, device, criterion, test_loader)\n",
    "    print(\"Test Accuracy before pruning: {:.1f}%\".format(test_acc))\n",
    "    \n",
    "    m = Mask(model.cpu(), pruning_rate)\n",
    "    m.init_length()\n",
    "    \n",
    "    # prune the filters\n",
    "    m.init_mask()\n",
    "    m.do_mask()\n",
    "    model = m.model\n",
    "    model.to(device)\n",
    "    \n",
    "    _, test_acc, _ = metrics(model, device, criterion, test_loader)\n",
    "    print(\"Test Accuracy after pruning: {:.1f}%\".format(test_acc))\n",
    "    \n",
    "    train_losses = []\n",
    "    train_accs = []\n",
    "    test_losses = []\n",
    "    test_accs = []\n",
    "\n",
    "    # final model\n",
    "    final_model = model\n",
    "    best_test_accuracy = -1.0\n",
    "    best_epoch = 0\n",
    "    best_pruning_rate = 0\n",
    "    \n",
    "    # Main training loop\n",
    "    for epoch in range(1, epochs+1):\n",
    "\n",
    "        # train for one epoch\n",
    "        train_loss, curr_train_acc = train(model, device, criterion, train_loader, test_loader, optimizer, epoch)\n",
    "        \n",
    "        if epoch % pruning_epoch == 0 or epoch == epochs:\n",
    "            # pruning and comparing\n",
    "            test_loss, test_acc, _ = metrics(model, device, criterion, test_loader)\n",
    "            print(\"Test Accuracy before pruning: {:.1f}%\".format(test_acc))\n",
    "\n",
    "            # adaptive pruning (if accuracy increases, upscale the pruning rate)\n",
    "            if test_acc > best_test_accuracy:\n",
    "                pruning_rate = pruning_rate * pruning_scale\n",
    "                best_test_accuracy = test_acc\n",
    "                best_epoch = epoch-1\n",
    "                best_pruning_rate = pruning_rate\n",
    "                final_model = copy.deepcopy(model) \n",
    "\n",
    "            if pruning_rate >= pr_threshold:\n",
    "                pruning_rate = pr_threshold\n",
    "                pruning_scale = 1.0\n",
    "            m.rate = pruning_rate\n",
    "            print(m.rate)\n",
    "            m.model = model.cpu()\n",
    "            m.init_mask()\n",
    "            m.do_mask()\n",
    "            model = m.model\n",
    "            model.to(device)\n",
    "\n",
    "            test_loss, test_acc, _ = metrics(model, device, criterion, test_loader)\n",
    "            print(\"Test Accuracy after pruning: {:.1f}%\".format(test_acc))\n",
    "            # store the best model so far\n",
    "\n",
    "        train_losses.append(train_loss.item())\n",
    "        train_accs.append(curr_train_acc)\n",
    "        test_losses.append(test_loss.item())\n",
    "        test_accs.append(test_acc)\n",
    "    \n",
    "    test_loss, test_acc, time_taken = metrics(final_model, device, criterion, test_loader)\n",
    "    print(\"\\nTraining finished.\\nTest accuracy: {:.1f}% - Inference time: {:.4f}s\".format(test_acc, time_taken))\n",
    "    print(f\"Best performing epoch: {best_epoch}, best performing pruning rate: {best_pruning_rate}\")\n",
    "\n",
    "    with open(arch+'_pr'+str(start_pr)+'_pe'+str(pruning_epoch)+'_ps'+str(pruning_scale)+'_pt'+str(pr_threshold)+'.csv', 'a', newline='') as myfile:\n",
    "        wr = csv.writer(myfile, quoting=csv.QUOTE_ALL)\n",
    "        wr.writerow(train_losses)\n",
    "        wr.writerow(test_losses)\n",
    "        wr.writerow(train_accs)\n",
    "        wr.writerow(test_accs)\n",
    "        \n",
    "    return model, train_losses, train_accs, test_losses, test_accs\n"
   ]
  },
  {
   "cell_type": "code",
   "execution_count": 29,
   "id": "false-mayor",
   "metadata": {},
   "outputs": [],
   "source": [
    "train_loss_curves = []\n",
    "train_acc_curves = []\n",
    "test_loss_curves = []\n",
    "test_acc_curves = []"
   ]
  },
  {
   "cell_type": "code",
   "execution_count": 30,
   "id": "resistant-algebra",
   "metadata": {
    "scrolled": true
   },
   "outputs": [
    {
     "output_type": "stream",
     "name": "stdout",
     "text": [
      "Files already downloaded and verified\n",
      "Files already downloaded and verified\n",
      "Test Accuracy before pruning: 0.0%\n",
      "Test Accuracy after pruning: 0.0%\n",
      "Train Epoch: 1 - Time taken: 16.2s\n",
      "Train Loss: 2.1213 - Train Accuracy: 24.7%\n",
      "Test Accuracy before pruning: 27.1%\n",
      "0.36\n",
      "Test Accuracy after pruning: 19.4%\n",
      "Train Epoch: 2 - Time taken: 16.2s\n",
      "Train Loss: 1.7394 - Train Accuracy: 35.6%\n",
      "Test Accuracy before pruning: 39.1%\n",
      "0.432\n",
      "Test Accuracy after pruning: 22.5%\n",
      "Train Epoch: 3 - Time taken: 16.2s\n",
      "Train Loss: 1.6068 - Train Accuracy: 42.3%\n",
      "Test Accuracy before pruning: 43.7%\n",
      "0.5\n",
      "Test Accuracy after pruning: 12.4%\n",
      "Train Epoch: 4 - Time taken: 16.2s\n",
      "Train Loss: 1.4982 - Train Accuracy: 46.2%\n",
      "Test Accuracy before pruning: 48.4%\n",
      "0.5\n",
      "Test Accuracy after pruning: 36.7%\n",
      "Train Epoch: 5 - Time taken: 16.2s\n",
      "Train Loss: 1.4279 - Train Accuracy: 48.5%\n",
      "Test Accuracy before pruning: 49.5%\n",
      "0.5\n",
      "Test Accuracy after pruning: 32.9%\n",
      "\n",
      "Training finished.\n",
      "Test accuracy: 49.5% - Inference time: 1.9278s\n",
      "Best performing epoch: 4, best performing pruning rate: 0.5\n"
     ]
    }
   ],
   "source": [
    "model, train_losses, train_accs, test_losses, test_accs = run(arch='resnet18', pruning_rate=0.3, epochs=5, pruning_epoch=1, pruning_scale=1.2 ,pr_threshold=0.5)\n",
    "train_loss_curves.append(train_losses) \n",
    "train_acc_curves.append(train_accs)\n",
    "test_loss_curves.append(test_losses)\n",
    "test_acc_curves.append(test_accs)\n"
   ]
  },
  {
   "cell_type": "code",
   "execution_count": 32,
   "id": "generous-highland",
   "metadata": {
    "scrolled": true
   },
   "outputs": [
    {
     "name": "stdout",
     "output_type": "stream",
     "text": [
      "Files already downloaded and verified\n",
      "Files already downloaded and verified\n",
      "Test Accuracy before pruning: 0.0%\n",
      "Test Accuracy after pruning: 0.0%\n",
      "Train Epoch: 1 - Time taken: 114.3s\n",
      "Train Loss: 1.9015 - Train Accuracy: 29.4%\n",
      "Test Accuracy before pruning: 28.9%\n",
      "Test Accuracy after pruning: 28.1%\n",
      "Train Epoch: 2 - Time taken: 110.2s\n",
      "Train Loss: 1.6312 - Train Accuracy: 38.8%\n",
      "Test Accuracy before pruning: 40.8%\n",
      "Test Accuracy after pruning: 40.5%\n",
      "Train Epoch: 3 - Time taken: 113.9s\n",
      "Train Loss: 1.4431 - Train Accuracy: 47.4%\n",
      "Test Accuracy before pruning: 48.9%\n",
      "Test Accuracy after pruning: 49.0%\n",
      "Train Epoch: 4 - Time taken: 116.9s\n",
      "Train Loss: 1.4776 - Train Accuracy: 51.1%\n",
      "Test Accuracy before pruning: 52.0%\n",
      "Test Accuracy after pruning: 51.9%\n",
      "Train Epoch: 5 - Time taken: 119.4s\n",
      "Train Loss: 1.1887 - Train Accuracy: 57.4%\n",
      "Test Accuracy before pruning: 60.1%\n",
      "Test Accuracy after pruning: 59.9%\n",
      "\n",
      "Training finished.\n",
      "Test accuracy: 59.9% - Inference time: 9.6780s\n"
     ]
    }
   ],
   "source": [
    "model, train_losses, train_accs, test_losses, test_accs = run(arch='resnet18', pruning_rate=0.1, epochs=5, pruning_epoch=1)\n",
    "train_loss_curves.append(train_losses)\n",
    "train_acc_curves.append(train_accs)\n",
    "test_loss_curves.append(test_losses)\n",
    "test_acc_curves.append(test_accs)\n"
   ]
  },
  {
   "cell_type": "code",
   "execution_count": 33,
   "id": "simple-surface",
   "metadata": {},
   "outputs": [
    {
     "data": {
      "image/png": "[encoded data removed]",
      "text/plain": [
       "<Figure size 432x288 with 1 Axes>"
      ]
     },
     "metadata": {
      "needs_background": "light"
     },
     "output_type": "display_data"
    },
    {
     "data": {
      "image/png": "[encoded data removed]",
      "text/plain": [
       "<Figure size 432x288 with 1 Axes>"
      ]
     },
     "metadata": {
      "needs_background": "light"
     },
     "output_type": "display_data"
    },
    {
     "data": {
      "image/png": "[encoded data removed]",
      "text/plain": [
       "<Figure size 432x288 with 1 Axes>"
      ]
     },
     "metadata": {
      "needs_background": "light"
     },
     "output_type": "display_data"
    },
    {
     "data": {
      "image/png": "[encoded data removed]",
      "text/plain": [
       "<Figure size 432x288 with 1 Axes>"
      ]
     },
     "metadata": {
      "needs_background": "light"
     },
     "output_type": "display_data"
    }
   ],
   "source": [
    "plot_curves(train_loss_curves, \"Train Loss\", \"Pruning rate\", [0,0.1])\n",
    "plot_curves(train_acc_curves, \"Train Accuracy\", \"Pruning rate\", [0,0.1])\n",
    "plot_curves(test_loss_curves, \"Test Loss\", \"Pruning rate\", [0,0.1])\n",
    "plot_curves(test_acc_curves, \"Test Accuracy\", \"Pruning rate\", [0,0.1])"
   ]
  },
  {
   "cell_type": "code",
   "execution_count": 5,
   "id": "obvious-ground",
   "metadata": {},
   "outputs": [
    {
     "output_type": "stream",
     "name": "stdout",
     "text": [
      "<function alexnet at 0x00000274283F03A8>\n"
     ]
    }
   ],
   "source": [
    "print(models.__dict__['alexnet'])"
   ]
  },
  {
   "cell_type": "code",
   "execution_count": null,
   "metadata": {},
   "outputs": [],
   "source": []
  }
 ],
 "metadata": {
  "kernelspec": {
   "name": "python376jvsc74a57bd028e856188c98907afb957508d66fa90e91ea28ac3baa06b7524674304dc16f71",
   "display_name": "Python 3.7.6 64-bit ('base': conda)"
  },
  "language_info": {
   "codemirror_mode": {
    "name": "ipython",
    "version": 3
   },
   "file_extension": ".py",
   "mimetype": "text/x-python",
   "name": "python",
   "nbconvert_exporter": "python",
   "pygments_lexer": "ipython3",
   "version": "3.7.6"
  }
 },
 "nbformat": 4,
 "nbformat_minor": 5
}